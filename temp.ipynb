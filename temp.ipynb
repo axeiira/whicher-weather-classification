{
 "cells": [
  {
   "cell_type": "code",
   "execution_count": 1,
   "metadata": {},
   "outputs": [
    {
     "name": "stdout",
     "output_type": "stream",
     "text": [
      "Class 'Ac': 132 train, 66 test, 23 val images split.\n",
      "Class 'As': 112 train, 56 test, 20 val images split.\n",
      "Class 'Cb': 145 train, 72 test, 25 val images split.\n",
      "Class 'Cc': 160 train, 80 test, 28 val images split.\n",
      "Class 'Ci': 83 train, 41 test, 15 val images split.\n",
      "Class 'Cs': 172 train, 86 test, 29 val images split.\n",
      "Class 'Ct': 120 train, 60 test, 20 val images split.\n",
      "Class 'Cu': 109 train, 54 test, 19 val images split.\n",
      "Class 'Ns': 164 train, 82 test, 28 val images split.\n",
      "Class 'Sc': 204 train, 102 test, 34 val images split.\n",
      "Class 'St': 121 train, 60 test, 21 val images split.\n"
     ]
    }
   ],
   "source": [
    "import os\n",
    "import shutil\n",
    "import random\n",
    "\n",
    "def split_data(source_folder, output_folder, train_ratio=0.6, test_ratio=0.3, val_ratio=0.1):\n",
    "    \"\"\"\n",
    "    Split data from a source folder into train, test, and val subfolders.\n",
    "\n",
    "    Args:\n",
    "        source_folder (str): Path to the folder containing class subfolders.\n",
    "        output_folder (str): Path to the output folder to create train, test, and val subfolders.\n",
    "        train_ratio (float): Ratio of images for the train set.\n",
    "        test_ratio (float): Ratio of images for the test set.\n",
    "        val_ratio (float): Ratio of images for the validation set.\n",
    "    \"\"\"\n",
    "    # Check ratios sum to 1\n",
    "    if not abs(train_ratio + test_ratio + val_ratio - 1.0) < 1e-6:\n",
    "        print(\"Ratios must sum up to 1.\")\n",
    "        return\n",
    "\n",
    "    # Create the output subfolders\n",
    "    for split in ['train', 'test', 'val']:\n",
    "        os.makedirs(os.path.join(output_folder, split), exist_ok=True)\n",
    "\n",
    "    # Iterate over each class folder in the source folder\n",
    "    for class_folder in os.listdir(source_folder):\n",
    "        class_path = os.path.join(source_folder, class_folder)\n",
    "        if not os.path.isdir(class_path):\n",
    "            continue\n",
    "\n",
    "        # Get all image files in the class folder\n",
    "        images = [f for f in os.listdir(class_path) if os.path.isfile(os.path.join(class_path, f))]\n",
    "        random.shuffle(images)  # Shuffle to ensure randomness\n",
    "\n",
    "        # Calculate split sizes\n",
    "        total_images = len(images)\n",
    "        train_count = int(total_images * train_ratio)\n",
    "        test_count = int(total_images * test_ratio)\n",
    "        val_count = total_images - train_count - test_count\n",
    "\n",
    "        # Split images\n",
    "        train_images = images[:train_count]\n",
    "        test_images = images[train_count:train_count + test_count]\n",
    "        val_images = images[train_count + test_count:]\n",
    "\n",
    "        # Copy images to respective folders\n",
    "        for split, split_images in zip(['train', 'test', 'val'], [train_images, test_images, val_images]):\n",
    "            split_class_folder = os.path.join(output_folder, split, class_folder)\n",
    "            os.makedirs(split_class_folder, exist_ok=True)\n",
    "            for image in split_images:\n",
    "                shutil.copy2(os.path.join(class_path, image), os.path.join(split_class_folder, image))\n",
    "\n",
    "        print(f\"Class '{class_folder}': {train_count} train, {test_count} test, {val_count} val images split.\")\n",
    "\n",
    "# Example usage\n",
    "source = \"C:/Users/salla/Programmation/Pro/ITS/Deep Learning for Multimedia/final_project/whicher-weather-classification/model/cloud_dataset/CCSN_v2\"\n",
    "output = \"C:/Users/salla/Programmation/Pro/ITS/Deep Learning for Multimedia/final_project/whicher-weather-classification/model/cloud_dataset/CCSN_split\"\n",
    "split_data(source, output, train_ratio=0.6, test_ratio=0.3, val_ratio=0.1)\n"
   ]
  }
 ],
 "metadata": {
  "kernelspec": {
   "display_name": "Python 3",
   "language": "python",
   "name": "python3"
  },
  "language_info": {
   "codemirror_mode": {
    "name": "ipython",
    "version": 3
   },
   "file_extension": ".py",
   "mimetype": "text/x-python",
   "name": "python",
   "nbconvert_exporter": "python",
   "pygments_lexer": "ipython3",
   "version": "3.11.9"
  }
 },
 "nbformat": 4,
 "nbformat_minor": 2
}
